{
 "cells": [
  {
   "cell_type": "markdown",
   "id": "61d71077-f63d-4038-b779-289e0c808695",
   "metadata": {},
   "source": [
    "## ライブラリの読み込み"
   ]
  },
  {
   "cell_type": "code",
   "execution_count": 1,
   "id": "1e24523f-d1a9-40e4-80e3-f6d0093b5e0e",
   "metadata": {},
   "outputs": [],
   "source": [
    "import random\n",
    "import heapq"
   ]
  },
  {
   "cell_type": "markdown",
   "id": "2fedbcc5-c93e-458c-940b-5637f2d48c9b",
   "metadata": {},
   "source": [
    "## ヒープソートを行う関数"
   ]
  },
  {
   "cell_type": "code",
   "execution_count": 2,
   "id": "a47584ba-a330-4876-be79-c7a7c5ce6cd5",
   "metadata": {},
   "outputs": [],
   "source": [
    "def heapsort(array):\n",
    "    \n",
    "    n = len(array) # 配列の長さを取得\n",
    "    sort_array = [] # ソートされたデータを格納するリスト\n",
    "    \n",
    "    # ヒープソートを実行\n",
    "    for _ in range(n):\n",
    "        heapq.heapify(array) # ヒープに格納\n",
    "        min_data = array[0] # ヒープは一番上に最小値が来る\n",
    "        sort_array.append(min_data) # リストに格納\n",
    "        array.pop(0) # 格納したので削除\n",
    "    \n",
    "    return sort_array"
   ]
  },
  {
   "cell_type": "markdown",
   "id": "87e083fe-008c-46c4-a9f4-d2ca8bc568e3",
   "metadata": {},
   "source": [
    "## 関数の実行"
   ]
  },
  {
   "cell_type": "code",
   "execution_count": 3,
   "id": "fd2e0d2c-10e9-47d8-9082-0a0fc3e73d08",
   "metadata": {},
   "outputs": [
    {
     "name": "stdout",
     "output_type": "stream",
     "text": [
      "未ソート [17, 72, 97, 8, 32, 15, 63, 97, 57, 60]\n",
      "ソート済み [8, 15, 17, 32, 57, 60, 63, 72, 97, 97]\n"
     ]
    }
   ],
   "source": [
    "random.seed(1)\n",
    "array = [random.randrange(100) for i in range(10)]\n",
    "print('未ソート', array)\n",
    "## 未ソート　[17, 72, 97, 8, 32, 15, 63, 97, 57, 60]\n",
    "sort_array = heapsort(array)\n",
    "print('ソート済み', sort_array)\n",
    "## ソート済み [8, 15, 17, 32, 57, 60, 63, 72, 97, 97]"
   ]
  }
 ],
 "metadata": {
  "kernelspec": {
   "display_name": "Python 3 (ipykernel)",
   "language": "python",
   "name": "python3"
  },
  "language_info": {
   "codemirror_mode": {
    "name": "ipython",
    "version": 3
   },
   "file_extension": ".py",
   "mimetype": "text/x-python",
   "name": "python",
   "nbconvert_exporter": "python",
   "pygments_lexer": "ipython3",
   "version": "3.8.13"
  }
 },
 "nbformat": 4,
 "nbformat_minor": 5
}
