{
 "cells": [
  {
   "cell_type": "markdown",
   "id": "61d71077-f63d-4038-b779-289e0c808695",
   "metadata": {},
   "source": [
    "## ライブラリの読み込み"
   ]
  },
  {
   "cell_type": "code",
   "execution_count": 1,
   "id": "1e24523f-d1a9-40e4-80e3-f6d0093b5e0e",
   "metadata": {},
   "outputs": [],
   "source": [
    "import random\n",
    "import heapq"
   ]
  },
  {
   "cell_type": "markdown",
   "id": "2fedbcc5-c93e-458c-940b-5637f2d48c9b",
   "metadata": {},
   "source": [
    "## ヒープソートを行う関数"
   ]
  },
  {
   "cell_type": "code",
   "execution_count": 2,
   "id": "a47584ba-a330-4876-be79-c7a7c5ce6cd5",
   "metadata": {},
   "outputs": [],
   "source": [
    "def heapsort(array):\n",
    "    \n",
    "    n = len(array) # 配列の長さを取得\n",
    "    sort_data = [] # ソートされたデータを格納するリスト\n",
    "    \n",
    "    # ヒープソートを実行\n",
    "    for _ in range(n):\n",
    "        heapq.heapify(array) # ヒープに格納\n",
    "        min_data = array[0] # ヒープは一番上に最小値が来る\n",
    "        sort_data.append(min_data) # リストに格納\n",
    "        array.pop(0) # 格納したので削除\n",
    "    \n",
    "    return sort_data"
   ]
  },
  {
   "cell_type": "markdown",
   "id": "87e083fe-008c-46c4-a9f4-d2ca8bc568e3",
   "metadata": {},
   "source": [
    "## データの生成"
   ]
  },
  {
   "cell_type": "code",
   "execution_count": 3,
   "id": "fd2e0d2c-10e9-47d8-9082-0a0fc3e73d08",
   "metadata": {},
   "outputs": [],
   "source": [
    "random.seed(1)\n",
    "array = [random.randrange(100) for i in range(20)]"
   ]
  },
  {
   "cell_type": "markdown",
   "id": "9881e2a2-26a2-4107-afdb-387f3c963fe0",
   "metadata": {},
   "source": [
    "## 関数の実行"
   ]
  },
  {
   "cell_type": "code",
   "execution_count": 4,
   "id": "6135772b-d9c1-42a4-a89f-470a77825870",
   "metadata": {},
   "outputs": [
    {
     "data": {
      "text/plain": [
       "[3, 8, 12, 15, 17, 26, 32, 48, 49, 55, 57, 60, 62, 63, 72, 77, 83, 97, 97, 97]"
      ]
     },
     "execution_count": 4,
     "metadata": {},
     "output_type": "execute_result"
    }
   ],
   "source": [
    "heapsort(array)"
   ]
  }
 ],
 "metadata": {
  "kernelspec": {
   "display_name": "Python 3 (ipykernel)",
   "language": "python",
   "name": "python3"
  },
  "language_info": {
   "codemirror_mode": {
    "name": "ipython",
    "version": 3
   },
   "file_extension": ".py",
   "mimetype": "text/x-python",
   "name": "python",
   "nbconvert_exporter": "python",
   "pygments_lexer": "ipython3",
   "version": "3.8.13"
  }
 },
 "nbformat": 4,
 "nbformat_minor": 5
}
